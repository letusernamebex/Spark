{
 "cells": [
  {
   "cell_type": "code",
   "execution_count": 0,
   "metadata": {
    "application/vnd.databricks.v1+cell": {
     "cellMetadata": {},
     "inputWidgets": {},
     "nuid": "2174b1ed-f438-4f6e-b456-7d62e990f081",
     "showTitle": false,
     "tableResultSettingsMap": {},
     "title": ""
    }
   },
   "outputs": [],
   "source": [
    "File uploaded to /FileStore/tables/employee_write_data.csv"
   ]
  },
  {
   "cell_type": "code",
   "execution_count": 0,
   "metadata": {
    "application/vnd.databricks.v1+cell": {
     "cellMetadata": {
      "byteLimit": 2048000,
      "rowLimit": 10000
     },
     "inputWidgets": {},
     "nuid": "241dca19-7415-42ab-b815-1c0a9129aac4",
     "showTitle": false,
     "tableResultSettingsMap": {},
     "title": ""
    }
   },
   "outputs": [],
   "source": [
    "df = spark.read.format(\"csv\")\\\n",
    "               .option(\"inferSchema\",\"true\")\\\n",
    "               .option(\"header\",\"true\")\\\n",
    "               .option(\"mode\",\"permissive\")\\\n",
    "               .load(\"/FileStore/tables/employee_write_data.csv\")"
   ]
  },
  {
   "cell_type": "code",
   "execution_count": 0,
   "metadata": {
    "application/vnd.databricks.v1+cell": {
     "cellMetadata": {
      "byteLimit": 2048000,
      "rowLimit": 10000
     },
     "inputWidgets": {},
     "nuid": "d5a3d961-4a26-48bc-a755-16359a7398e5",
     "showTitle": false,
     "tableResultSettingsMap": {},
     "title": ""
    }
   },
   "outputs": [
    {
     "output_type": "stream",
     "name": "stdout",
     "output_type": "stream",
     "text": [
      "+---+--------+---+------+-------+------+\n| id|    name|age|salary|address|gender|\n+---+--------+---+------+-------+------+\n|  1|  Manish| 26| 75000|  INDIA|     m|\n|  2|  Nikita| 23|100000|    USA|     f|\n|  3|  Pritam| 22|150000|  INDIA|     m|\n|  4|Prantosh| 17|200000|  JAPAN|     m|\n|  5|  Vikash| 31|300000|    USA|     m|\n|  6|   Rahul| 55|300000|  INDIA|     m|\n|  7|    Raju| 67|540000|    USA|     m|\n|  8| Praveen| 28| 70000|  JAPAN|     m|\n|  9|     Dev| 32|150000|  JAPAN|     m|\n| 10|  Sherin| 16| 25000| RUSSIA|     f|\n| 11|    Ragu| 12| 35000|  INDIA|     f|\n| 12|   Sweta| 43|200000|  INDIA|     f|\n| 13| Raushan| 48|650000|    USA|     m|\n| 14|  Mukesh| 36| 95000| RUSSIA|     m|\n| 15| Prakash| 52|750000|  INDIA|     m|\n+---+--------+---+------+-------+------+\n\n"
     ]
    }
   ],
   "source": [
    "df.show()"
   ]
  },
  {
   "cell_type": "code",
   "execution_count": 0,
   "metadata": {
    "application/vnd.databricks.v1+cell": {
     "cellMetadata": {
      "byteLimit": 2048000,
      "rowLimit": 10000
     },
     "inputWidgets": {},
     "nuid": "f5f2ccac-377a-464c-9b0e-164c2afd73d1",
     "showTitle": false,
     "tableResultSettingsMap": {},
     "title": ""
    }
   },
   "outputs": [],
   "source": [
    "df.write.format(\"csv\")\\\n",
    "        .option(\"header\",\"true\")\\\n",
    "        .option(\"mode\",\"overwrite\")\\\n",
    "        .option(\"path\",\"/FileStore/tables/csv_write\")\\\n",
    "        .save()"
   ]
  },
  {
   "cell_type": "code",
   "execution_count": 0,
   "metadata": {
    "application/vnd.databricks.v1+cell": {
     "cellMetadata": {
      "byteLimit": 2048000,
      "rowLimit": 10000
     },
     "inputWidgets": {},
     "nuid": "3442ce93-a766-4bd1-8372-b15b5d108d57",
     "showTitle": false,
     "tableResultSettingsMap": {},
     "title": ""
    }
   },
   "outputs": [
    {
     "output_type": "stream",
     "name": "stdout",
     "output_type": "stream",
     "text": [
      "Out[8]: [FileInfo(path='dbfs:/FileStore/tables/csv_write/_SUCCESS', name='_SUCCESS', size=0, modificationTime=1731872093000),\n FileInfo(path='dbfs:/FileStore/tables/csv_write/_committed_9033617060440257347', name='_committed_9033617060440257347', size=111, modificationTime=1731872093000),\n FileInfo(path='dbfs:/FileStore/tables/csv_write/_started_9033617060440257347', name='_started_9033617060440257347', size=0, modificationTime=1731872093000),\n FileInfo(path='dbfs:/FileStore/tables/csv_write/part-00000-tid-9033617060440257347-1e3eedae-553e-4e74-8011-76db7b7fa384-6-1-c000.csv', name='part-00000-tid-9033617060440257347-1e3eedae-553e-4e74-8011-76db7b7fa384-6-1-c000.csv', size=430, modificationTime=1731872093000)]"
     ]
    }
   ],
   "source": [
    "dbutils.fs.ls(\"/FileStore/tables/csv_write\")"
   ]
  },
  {
   "cell_type": "code",
   "execution_count": 0,
   "metadata": {
    "application/vnd.databricks.v1+cell": {
     "cellMetadata": {
      "byteLimit": 2048000,
      "rowLimit": 10000
     },
     "inputWidgets": {},
     "nuid": "6c17b31a-f757-46e5-aa11-7bdab457f87a",
     "showTitle": false,
     "tableResultSettingsMap": {},
     "title": ""
    }
   },
   "outputs": [],
   "source": [
    "df.repartition(3).write.format(\"csv\")\\\n",
    "        .option(\"header\",\"true\")\\\n",
    "        .option(\"mode\",\"overwrite\")\\\n",
    "        .option(\"path\",\"/FileStore/tables/csv_write_repartition\")\\\n",
    "        .save()"
   ]
  },
  {
   "cell_type": "code",
   "execution_count": 0,
   "metadata": {
    "application/vnd.databricks.v1+cell": {
     "cellMetadata": {
      "byteLimit": 2048000,
      "rowLimit": 10000
     },
     "inputWidgets": {},
     "nuid": "13afa2d0-df82-41d4-8feb-aa3a8dd006ae",
     "showTitle": false,
     "tableResultSettingsMap": {},
     "title": ""
    }
   },
   "outputs": [
    {
     "output_type": "stream",
     "name": "stdout",
     "output_type": "stream",
     "text": [
      "Out[11]: [FileInfo(path='dbfs:/FileStore/tables/csv_write_repartition/_SUCCESS', name='_SUCCESS', size=0, modificationTime=1731872175000),\n FileInfo(path='dbfs:/FileStore/tables/csv_write_repartition/_committed_9181559855603674887', name='_committed_9181559855603674887', size=286, modificationTime=1731872175000),\n FileInfo(path='dbfs:/FileStore/tables/csv_write_repartition/_started_9181559855603674887', name='_started_9181559855603674887', size=0, modificationTime=1731872175000),\n FileInfo(path='dbfs:/FileStore/tables/csv_write_repartition/part-00000-tid-9181559855603674887-a56e9bb6-4c66-4611-8fa8-a3c2db52634c-8-1-c000.csv', name='part-00000-tid-9181559855603674887-a56e9bb6-4c66-4611-8fa8-a3c2db52634c-8-1-c000.csv', size=167, modificationTime=1731872175000),\n FileInfo(path='dbfs:/FileStore/tables/csv_write_repartition/part-00001-tid-9181559855603674887-a56e9bb6-4c66-4611-8fa8-a3c2db52634c-9-1-c000.csv', name='part-00001-tid-9181559855603674887-a56e9bb6-4c66-4611-8fa8-a3c2db52634c-9-1-c000.csv', size=162, modificationTime=1731872175000),\n FileInfo(path='dbfs:/FileStore/tables/csv_write_repartition/part-00002-tid-9181559855603674887-a56e9bb6-4c66-4611-8fa8-a3c2db52634c-10-1-c000.csv', name='part-00002-tid-9181559855603674887-a56e9bb6-4c66-4611-8fa8-a3c2db52634c-10-1-c000.csv', size=169, modificationTime=1731872175000)]"
     ]
    }
   ],
   "source": [
    "dbutils.fs.ls(\"/FileStore/tables/csv_write_repartition\")"
   ]
  }
 ],
 "metadata": {
  "application/vnd.databricks.v1+notebook": {
   "dashboards": [],
   "environmentMetadata": null,
   "language": "python",
   "notebookMetadata": {
    "pythonIndentUnit": 2
   },
   "notebookName": "5. writing_df_to_disk",
   "widgets": {}
  }
 },
 "nbformat": 4,
 "nbformat_minor": 0
}
